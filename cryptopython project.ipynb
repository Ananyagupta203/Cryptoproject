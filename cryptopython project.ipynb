{
 "cells": [
  {
   "cell_type": "code",
   "execution_count": 1,
   "metadata": {},
   "outputs": [
    {
     "name": "stdout",
     "output_type": "stream",
     "text": [
      "Please enter your secret messagehi how are you\n",
      "Please select an encryption mode : Encode(E) OR Decode(D)E\n",
      "ghzgnvz!qdzxnt\n"
     ]
    }
   ],
   "source": [
    "def machine():\n",
    "    keys = 'abcdefghijklmnopqrstuvwxyz !'\n",
    "    Value = keys[-1] + keys[0:-1]\n",
    "\n",
    "    encryptDict = dict(zip(keys, Value))\n",
    "    decryptDict = dict(zip(Value, keys))\n",
    "\n",
    "    message = input(\"Please enter your secret message\")\n",
    "    mode = input(\"Please select an encryption mode : Encode(E) OR Decode(D)\")\n",
    "\n",
    "    if mode.upper() == 'E':\n",
    "        newMessage = ''.join([encryptDict[letter]\n",
    "                             for letter in message.lower()])\n",
    "\n",
    "    elif mode.upper() == 'D':\n",
    "        newMessage = ''.join([decryptDict[letter]\n",
    "                             for letter in message.lower()])\n",
    "    else:\n",
    "        print('Please enter an Valid choice, Decrypt(D) OR Encrypt(E)')\n",
    "\n",
    "    return newMessage\n",
    "\n",
    "\n",
    "print(machine())"
   ]
  },
  {
   "cell_type": "code",
   "execution_count": null,
   "metadata": {},
   "outputs": [],
   "source": []
  }
 ],
 "metadata": {
  "kernelspec": {
   "display_name": "Python 3",
   "language": "python",
   "name": "python3"
  },
  "language_info": {
   "codemirror_mode": {
    "name": "ipython",
    "version": 3
   },
   "file_extension": ".py",
   "mimetype": "text/x-python",
   "name": "python",
   "nbconvert_exporter": "python",
   "pygments_lexer": "ipython3",
   "version": "3.8.5"
  }
 },
 "nbformat": 4,
 "nbformat_minor": 4
}
